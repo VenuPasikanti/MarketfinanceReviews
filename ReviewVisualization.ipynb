{
 "cells": [
  {
   "cell_type": "markdown",
   "metadata": {},
   "source": [
    "1.Reviews Data was extracted from TrustPilot website into Json file using Beautiful Soup,Json and Requests libraires.\n",
    "2.Required Manipulations and Visalizations done using Pandas."
   ]
  },
  {
   "cell_type": "code",
   "execution_count": 185,
   "metadata": {},
   "outputs": [],
   "source": [
    "import pandas as pd\n",
    "\n",
    "df = pd.read_json(r'C:\\Users\\VenuMadhav\\OneDrive\\Tests\\data.json')"
   ]
  },
  {
   "cell_type": "code",
   "execution_count": 186,
   "metadata": {},
   "outputs": [
    {
     "data": {
      "text/html": [
       "<div>\n",
       "<style scoped>\n",
       "    .dataframe tbody tr th:only-of-type {\n",
       "        vertical-align: middle;\n",
       "    }\n",
       "\n",
       "    .dataframe tbody tr th {\n",
       "        vertical-align: top;\n",
       "    }\n",
       "\n",
       "    .dataframe thead th {\n",
       "        text-align: right;\n",
       "    }\n",
       "</style>\n",
       "<table border=\"1\" class=\"dataframe\">\n",
       "  <thead>\n",
       "    <tr style=\"text-align: right;\">\n",
       "      <th></th>\n",
       "      <th>socialShareUrl</th>\n",
       "      <th>businessUnitId</th>\n",
       "      <th>businessUnitDisplayName</th>\n",
       "      <th>consumerId</th>\n",
       "      <th>consumerName</th>\n",
       "      <th>reviewId</th>\n",
       "      <th>reviewHeader</th>\n",
       "      <th>reviewBody</th>\n",
       "      <th>stars</th>\n",
       "      <th>hasBusinessUnitMergeHistory</th>\n",
       "    </tr>\n",
       "  </thead>\n",
       "  <tbody>\n",
       "    <tr>\n",
       "      <th>0</th>\n",
       "      <td>https://www.trustpilot.com/reviews/5f860030798...</td>\n",
       "      <td>519d7b95000064000536e3d7</td>\n",
       "      <td>MarketFinance</td>\n",
       "      <td>5f8600308bc2c800195a371f</td>\n",
       "      <td>Richard</td>\n",
       "      <td>5f860030798e6f0bcc445efc</td>\n",
       "      <td>My welcome to market finance  has been…</td>\n",
       "      <td>My welcome to market finance  has been brillia...</td>\n",
       "      <td>5</td>\n",
       "      <td>False</td>\n",
       "    </tr>\n",
       "    <tr>\n",
       "      <th>1</th>\n",
       "      <td>https://www.trustpilot.com/reviews/5f858486798...</td>\n",
       "      <td>519d7b95000064000536e3d7</td>\n",
       "      <td>MarketFinance</td>\n",
       "      <td>5f858486cecc5f001e035fc3</td>\n",
       "      <td>Lisa</td>\n",
       "      <td>5f858486798e6f07705ccb97</td>\n",
       "      <td>Very helpful in guiding us through the…</td>\n",
       "      <td>Very helpful in guiding us through the process...</td>\n",
       "      <td>5</td>\n",
       "      <td>False</td>\n",
       "    </tr>\n",
       "    <tr>\n",
       "      <th>2</th>\n",
       "      <td>https://www.trustpilot.com/reviews/5f849b66798...</td>\n",
       "      <td>519d7b95000064000536e3d7</td>\n",
       "      <td>MarketFinance</td>\n",
       "      <td>5bdc3ed3cf96d6f0d795d7f4</td>\n",
       "      <td>Jack</td>\n",
       "      <td>5f849b66798e6f07705c0beb</td>\n",
       "      <td>Excellent service</td>\n",
       "      <td>Market finance have provided me excellent serv...</td>\n",
       "      <td>5</td>\n",
       "      <td>False</td>\n",
       "    </tr>\n",
       "    <tr>\n",
       "      <th>3</th>\n",
       "      <td>https://www.trustpilot.com/reviews/5f849916798...</td>\n",
       "      <td>519d7b95000064000536e3d7</td>\n",
       "      <td>MarketFinance</td>\n",
       "      <td>5f2d22addbad843eecb1b15f</td>\n",
       "      <td>Stephen Forde</td>\n",
       "      <td>5f849916798e6f07705c08ef</td>\n",
       "      <td>Excellent service</td>\n",
       "      <td>Excellent service</td>\n",
       "      <td>5</td>\n",
       "      <td>False</td>\n",
       "    </tr>\n",
       "    <tr>\n",
       "      <th>4</th>\n",
       "      <td>https://www.trustpilot.com/reviews/5f7e08f8798...</td>\n",
       "      <td>519d7b95000064000536e3d7</td>\n",
       "      <td>MarketFinance</td>\n",
       "      <td>5f7e08e808bffd0012e3e045</td>\n",
       "      <td>Austin Saunders</td>\n",
       "      <td>5f7e08f8798e6f06fc58c134</td>\n",
       "      <td>New customer on-boarding</td>\n",
       "      <td>From start to finish the Market Finance team h...</td>\n",
       "      <td>5</td>\n",
       "      <td>False</td>\n",
       "    </tr>\n",
       "  </tbody>\n",
       "</table>\n",
       "</div>"
      ],
      "text/plain": [
       "                                      socialShareUrl  \\\n",
       "0  https://www.trustpilot.com/reviews/5f860030798...   \n",
       "1  https://www.trustpilot.com/reviews/5f858486798...   \n",
       "2  https://www.trustpilot.com/reviews/5f849b66798...   \n",
       "3  https://www.trustpilot.com/reviews/5f849916798...   \n",
       "4  https://www.trustpilot.com/reviews/5f7e08f8798...   \n",
       "\n",
       "             businessUnitId businessUnitDisplayName                consumerId  \\\n",
       "0  519d7b95000064000536e3d7           MarketFinance  5f8600308bc2c800195a371f   \n",
       "1  519d7b95000064000536e3d7           MarketFinance  5f858486cecc5f001e035fc3   \n",
       "2  519d7b95000064000536e3d7           MarketFinance  5bdc3ed3cf96d6f0d795d7f4   \n",
       "3  519d7b95000064000536e3d7           MarketFinance  5f2d22addbad843eecb1b15f   \n",
       "4  519d7b95000064000536e3d7           MarketFinance  5f7e08e808bffd0012e3e045   \n",
       "\n",
       "      consumerName                  reviewId  \\\n",
       "0         Richard   5f860030798e6f0bcc445efc   \n",
       "1             Lisa  5f858486798e6f07705ccb97   \n",
       "2             Jack  5f849b66798e6f07705c0beb   \n",
       "3    Stephen Forde  5f849916798e6f07705c08ef   \n",
       "4  Austin Saunders  5f7e08f8798e6f06fc58c134   \n",
       "\n",
       "                              reviewHeader  \\\n",
       "0  My welcome to market finance  has been…   \n",
       "1  Very helpful in guiding us through the…   \n",
       "2                        Excellent service   \n",
       "3                        Excellent service   \n",
       "4                 New customer on-boarding   \n",
       "\n",
       "                                          reviewBody  stars  \\\n",
       "0  My welcome to market finance  has been brillia...      5   \n",
       "1  Very helpful in guiding us through the process...      5   \n",
       "2  Market finance have provided me excellent serv...      5   \n",
       "3                                  Excellent service      5   \n",
       "4  From start to finish the Market Finance team h...      5   \n",
       "\n",
       "   hasBusinessUnitMergeHistory  \n",
       "0                        False  \n",
       "1                        False  \n",
       "2                        False  \n",
       "3                        False  \n",
       "4                        False  "
      ]
     },
     "execution_count": 186,
     "metadata": {},
     "output_type": "execute_result"
    }
   ],
   "source": [
    "df.head()"
   ]
  },
  {
   "cell_type": "markdown",
   "metadata": {},
   "source": [
    "# Remove columns"
   ]
  },
  {
   "cell_type": "code",
   "execution_count": 187,
   "metadata": {},
   "outputs": [],
   "source": [
    "df = df.drop(df.columns[[0,1,2,3,4,5,6,7,9]], axis=1)"
   ]
  },
  {
   "cell_type": "code",
   "execution_count": 188,
   "metadata": {},
   "outputs": [
    {
     "data": {
      "text/html": [
       "<div>\n",
       "<style scoped>\n",
       "    .dataframe tbody tr th:only-of-type {\n",
       "        vertical-align: middle;\n",
       "    }\n",
       "\n",
       "    .dataframe tbody tr th {\n",
       "        vertical-align: top;\n",
       "    }\n",
       "\n",
       "    .dataframe thead th {\n",
       "        text-align: right;\n",
       "    }\n",
       "</style>\n",
       "<table border=\"1\" class=\"dataframe\">\n",
       "  <thead>\n",
       "    <tr style=\"text-align: right;\">\n",
       "      <th></th>\n",
       "      <th>stars</th>\n",
       "    </tr>\n",
       "  </thead>\n",
       "  <tbody>\n",
       "    <tr>\n",
       "      <th>0</th>\n",
       "      <td>5</td>\n",
       "    </tr>\n",
       "    <tr>\n",
       "      <th>1</th>\n",
       "      <td>5</td>\n",
       "    </tr>\n",
       "    <tr>\n",
       "      <th>2</th>\n",
       "      <td>5</td>\n",
       "    </tr>\n",
       "    <tr>\n",
       "      <th>3</th>\n",
       "      <td>5</td>\n",
       "    </tr>\n",
       "    <tr>\n",
       "      <th>4</th>\n",
       "      <td>5</td>\n",
       "    </tr>\n",
       "  </tbody>\n",
       "</table>\n",
       "</div>"
      ],
      "text/plain": [
       "   stars\n",
       "0      5\n",
       "1      5\n",
       "2      5\n",
       "3      5\n",
       "4      5"
      ]
     },
     "execution_count": 188,
     "metadata": {},
     "output_type": "execute_result"
    }
   ],
   "source": [
    "df.head()"
   ]
  },
  {
   "cell_type": "markdown",
   "metadata": {},
   "source": [
    "# Add New Column ReviewType based on number of Stars"
   ]
  },
  {
   "cell_type": "code",
   "execution_count": 189,
   "metadata": {},
   "outputs": [],
   "source": [
    "def reviewtype (row):\n",
    "   if row['stars'] == 1 :\n",
    "      return 'Bad'\n",
    "   if row['stars'] == 2 :\n",
    "      return 'Poor'\n",
    "   if row['stars'] == 3 :\n",
    "      return 'Average'\n",
    "   if row['stars'] == 4 :\n",
    "      return 'Great'\n",
    "   if row['stars'] == 5 :\n",
    "      return 'Excellent'\n",
    "   return 'Other'"
   ]
  },
  {
   "cell_type": "code",
   "execution_count": 190,
   "metadata": {},
   "outputs": [],
   "source": [
    "df['reviewtype'] = df.apply (lambda row: reviewtype(row), axis=1)"
   ]
  },
  {
   "cell_type": "code",
   "execution_count": 170,
   "metadata": {},
   "outputs": [
    {
     "data": {
      "text/html": [
       "<div>\n",
       "<style scoped>\n",
       "    .dataframe tbody tr th:only-of-type {\n",
       "        vertical-align: middle;\n",
       "    }\n",
       "\n",
       "    .dataframe tbody tr th {\n",
       "        vertical-align: top;\n",
       "    }\n",
       "\n",
       "    .dataframe thead th {\n",
       "        text-align: right;\n",
       "    }\n",
       "</style>\n",
       "<table border=\"1\" class=\"dataframe\">\n",
       "  <thead>\n",
       "    <tr style=\"text-align: right;\">\n",
       "      <th></th>\n",
       "      <th>stars</th>\n",
       "      <th>reviewtype</th>\n",
       "    </tr>\n",
       "  </thead>\n",
       "  <tbody>\n",
       "    <tr>\n",
       "      <th>0</th>\n",
       "      <td>5</td>\n",
       "      <td>Excellent</td>\n",
       "    </tr>\n",
       "    <tr>\n",
       "      <th>1</th>\n",
       "      <td>5</td>\n",
       "      <td>Excellent</td>\n",
       "    </tr>\n",
       "    <tr>\n",
       "      <th>2</th>\n",
       "      <td>5</td>\n",
       "      <td>Excellent</td>\n",
       "    </tr>\n",
       "    <tr>\n",
       "      <th>3</th>\n",
       "      <td>5</td>\n",
       "      <td>Excellent</td>\n",
       "    </tr>\n",
       "    <tr>\n",
       "      <th>4</th>\n",
       "      <td>5</td>\n",
       "      <td>Excellent</td>\n",
       "    </tr>\n",
       "  </tbody>\n",
       "</table>\n",
       "</div>"
      ],
      "text/plain": [
       "   stars reviewtype\n",
       "0      5  Excellent\n",
       "1      5  Excellent\n",
       "2      5  Excellent\n",
       "3      5  Excellent\n",
       "4      5  Excellent"
      ]
     },
     "execution_count": 170,
     "metadata": {},
     "output_type": "execute_result"
    }
   ],
   "source": [
    "df.head()"
   ]
  },
  {
   "cell_type": "markdown",
   "metadata": {},
   "source": [
    "# Count by rating"
   ]
  },
  {
   "cell_type": "code",
   "execution_count": 207,
   "metadata": {},
   "outputs": [
    {
     "data": {
      "image/png": "[encoded data removed]",
      "text/plain": [
       "<Figure size 432x288 with 1 Axes>"
      ]
     },
     "metadata": {
      "needs_background": "light"
     },
     "output_type": "display_data"
    }
   ],
   "source": [
    "ax = df.groupby(['reviewtype'])['stars'].count().plot(kind = 'barh')\n",
    "ax.set_title(\"Count of Reviews types\", fontsize=18);\n",
    "ax.set_ylabel(\"Number of Reviews\", fontsize=15);\n",
    "ax.set_xlabel(\"Review Types\", fontsize=15);\n",
    "\n",
    "for i in ax.patches:\n",
    "    ax.text(i.get_width()+.1, i.get_y()+.31, \\\n",
    "            str(round((i.get_width()), 2)), fontsize=15, color='grey');\n",
    "ax.invert_yaxis()"
   ]
  },
  {
   "cell_type": "code",
   "execution_count": null,
   "metadata": {},
   "outputs": [],
   "source": []
  },
  {
   "cell_type": "code",
   "execution_count": null,
   "metadata": {},
   "outputs": [],
   "source": []
  }
 ],
 "metadata": {
  "kernelspec": {
   "display_name": "Python 3",
   "language": "python",
   "name": "python3"
  },
  "language_info": {
   "codemirror_mode": {
    "name": "ipython",
    "version": 3
   },
   "file_extension": ".py",
   "mimetype": "text/x-python",
   "name": "python",
   "nbconvert_exporter": "python",
   "pygments_lexer": "ipython3",
   "version": "3.7.6"
  }
 },
 "nbformat": 4,
 "nbformat_minor": 4
}
